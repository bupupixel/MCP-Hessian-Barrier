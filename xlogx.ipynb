{
 "cells": [
  {
   "cell_type": "code",
   "execution_count": 1,
   "metadata": {},
   "outputs": [],
   "source": [
    "# packages\n",
    "import os \n",
    "import sys\n",
    "import random\n",
    "import numpy as np \n",
    "from numpy import linalg as LA\n",
    "from time import process_time"
   ]
  },
  {
   "cell_type": "code",
   "execution_count": 2,
   "metadata": {},
   "outputs": [],
   "source": [
    "# method to read data from file\n",
    "# OUTPUT: adjacency matrix\n",
    "def read(filename):\n",
    "    PROJECT_PATH = \"./DIMACS/\"\n",
    "    path_to_file = os.path.join(PROJECT_PATH, filename)\n",
    "    \n",
    "    with open(path_to_file, 'r') as file:\n",
    "        for line in file:\n",
    "            if line.startswith('c'):  # graph description\n",
    "                line.split()[1:]\n",
    "                #print(*line.split()[1:])\n",
    "            # first line: p name num_of_vertices num_of_edges\n",
    "            elif line.startswith('p'):\n",
    "                p, name, vertices_num, edges_num = line.split()\n",
    "                print('{0} {1} {2}\\n'.format(name, vertices_num, edges_num))\n",
    "                adj = np.zeros((int(vertices_num),int(vertices_num)))\n",
    "            elif line.startswith('e'):\n",
    "                _, v1, v2 = line.split()\n",
    "                adj[int(v1)-1][int(v2)-1]=1\n",
    "                adj[int(v2)-1][int(v1)-1]=1\n",
    "            else:\n",
    "                continue\n",
    "                \n",
    "        #return adjacency matrix        \n",
    "        return int(vertices_num), adj  "
   ]
  },
  {
   "cell_type": "code",
   "execution_count": 13,
   "metadata": {},
   "outputs": [
    {
     "name": "stdout",
     "output_type": "stream",
     "text": [
      "col 1000 450079\n",
      "\n"
     ]
    }
   ],
   "source": [
    "num, adj=read(\"c1000.9.clq\") #Take a look at the graph size/ adjacency"
   ]
  },
  {
   "cell_type": "markdown",
   "metadata": {},
   "source": [
    "COMPLEMENTARY METHODS:"
   ]
  },
  {
   "cell_type": "code",
   "execution_count": 14,
   "metadata": {},
   "outputs": [],
   "source": [
    "# output the function value of 0.5*x'Ax\n",
    "def func_val(x, Q):\n",
    "    val = 0.5*x.transpose().dot(Q).dot(x)\n",
    "    return val\n",
    "\n",
    "# check the final result if it is indeed a clique\n",
    "def check(adj,index):\n",
    "    for i in index:\n",
    "        for j in index:\n",
    "            if i!=j and adj[i][j]!=1:\n",
    "                return \"false\"\n",
    "            \n",
    "    return \"true\""
   ]
  },
  {
   "cell_type": "markdown",
   "metadata": {},
   "source": [
    "MAIN ALGORITHM:"
   ]
  },
  {
   "cell_type": "code",
   "execution_count": 15,
   "metadata": {},
   "outputs": [],
   "source": [
    "#Armijo Backtracking\n",
    "def case_1(vertice_num, x, adj, max_iters, delta, mu, epsilon):\n",
    "    # Modify the adjacency matrix\n",
    "    Id = np.identity(vertice_num)\n",
    "    Q= -(adj+1/2*Id)\n",
    "    L = np.sqrt(np.trace(Q.dot(Q)))     # L=root(trace(A'A))\n",
    "    \n",
    "    for iteration in range(max_iters):\n",
    "        \n",
    "##1     # Hessian derived from entropy function\n",
    "        hessian = np.diag(1/x)\n",
    "\n",
    "    \n",
    "##2     # step direction\n",
    "        Qx = Q.dot(x)\n",
    "        v_x = -x*(Qx - x.dot(Qx))\n",
    "\n",
    "    \n",
    "##3     # step-size\n",
    "        #--descent inequality        \n",
    "        vHv = (v_x/x).dot(v_x)\n",
    "        alpha = 0.95*(2*vHv)/(L*v_x.dot(v_x))\n",
    "        \n",
    "##4     # set test point        \n",
    "        x_hat = x + alpha*v_x\n",
    "\n",
    "        #check feasibility\n",
    "        if x_hat.min()<0:\n",
    "            np.min([x[i]/(-v_x[i]) for i in range(vertice_num) if v_x[i]<0]) # alpha_0= min(x_i/(-v_i) for v<0)            \n",
    "\n",
    "\n",
    "##5     # sufficient decrease\n",
    "        f_val = 0.5*x.dot(Qx)\n",
    "        f_add = mu*vHv\n",
    "        while func_val(x_hat, Q) > f_val - alpha*f_add:\n",
    "            alpha = alpha*delta     #shrink step size\n",
    "            x_hat = x + alpha*v_x     # update test point\n",
    "\n",
    "\n",
    "##6     # stopping Rule\n",
    "        if (-func_val(x_hat,Q)+f_val)<(epsilon):\n",
    "            break\n",
    "\n",
    "##7     # new state\n",
    "        old_x = x   \n",
    "        x = x_hat\n",
    "        \n",
    "    return x"
   ]
  },
  {
   "cell_type": "markdown",
   "metadata": {},
   "source": [
    "INITIALIZE X, RUN ALGORITHM THEN OUTPUT FINAL RESULT"
   ]
  },
  {
   "cell_type": "code",
   "execution_count": 16,
   "metadata": {},
   "outputs": [],
   "source": [
    "def solve(filename):\n",
    "    # read the adjacency matrix \n",
    "    vertice_num, adj = read(filename)\n",
    "    print(\"SOLUTION: \")\n",
    "    \n",
    "    # choose starting point at the middle of the simplex\n",
    "    x=np.array([1/vertice_num for i in range(vertice_num)]) \n",
    "    \n",
    "    # RUN ALGORITHM \n",
    "    # max 10^6 iteration, shrinking factor delta=0.5, mu=0.001, epsilon=10^(-9) chosen\n",
    "    start = process_time()\n",
    "    sol = case_1(vertice_num, x, adj, 1000000, 0.7, 0.1, 0.000000001)\n",
    "    end = process_time()\n",
    "    \n",
    "    # retrieve the index of chosen vertices\n",
    "    ans = np.array([i for i in sol if i>0.1/len(sol)])\n",
    "    index = np.array([i for i in range(len(sol)) if sol[i]>0.1/len(sol)])\n",
    "    \n",
    "    print(' '.join(str(x+1) for x in index))\n",
    "    print(\"Maximum clique size: {}\\n\".format(len(ans)))\n",
    "    print(\"Clique: {}\".format(check(adj,index)))\n",
    "    print('CPU = {}'.format(np.mean(end-start)))\n",
    "    \n",
    "    return sol"
   ]
  },
  {
   "cell_type": "markdown",
   "metadata": {},
   "source": [
    "SOLVE HERE"
   ]
  },
  {
   "cell_type": "code",
   "execution_count": 119,
   "metadata": {},
   "outputs": [
    {
     "name": "stdout",
     "output_type": "stream",
     "text": [
      "edge 171 9435\n",
      "\n",
      "SOLUTION: \n",
      "3 14 20 73 79 103 113\n",
      "Maximum clique size: 7\n",
      "\n",
      "Clique: true\n",
      "CPU = 0.125\n"
     ]
    }
   ],
   "source": [
    "solution = solve(\"keller4.clq\")  # epsilon = 10^(-9)"
   ]
  },
  {
   "cell_type": "code",
   "execution_count": 9,
   "metadata": {},
   "outputs": [],
   "source": [
    "# RUN WITH MULTIPLE STARTING POINTS \n",
    "\n",
    "def multi_solve(filename, trials):\n",
    "    # input the adjacency matrix\n",
    "    vertice_num, adj = read(filename)\n",
    "\n",
    "    \n",
    "    #running trials of different starting x\n",
    "    print('{} trials:'.format(trials)) \n",
    "    solutions = []; time = []\n",
    "    Id = np.identity(vertice_num)\n",
    "    A= -(adj+1/2*Id)\n",
    "    \n",
    "    for i in range(trials):\n",
    "        print(\"process: {}\".format(i+1))\n",
    "        # choose the starting point at random\n",
    "        x=np.random.dirichlet(np.ones(vertice_num)).ravel()\n",
    " \n",
    "        # run algorithm\n",
    "        start = process_time()\n",
    "        sol = case_1(vertice_num, x, adj, 1000000, 0.7, 0.01, 0.000000001)\n",
    "        end = process_time()\n",
    "    \n",
    "        # retrieve the index of the chosen vertices\n",
    "        ans = np.array([i for i in sol if i>0.1/len(sol)]) \n",
    "        index = np.array([i for i in range(len(sol)) if sol[i]>0.1/len(sol)])\n",
    "        \n",
    "        if check(adj,index):\n",
    "            solutions.append(len(ans))\n",
    "            time.append(end-start)\n",
    "    \n",
    "    return np.array(solutions), np.array(time)"
   ]
  },
  {
   "cell_type": "code",
   "execution_count": 67,
   "metadata": {},
   "outputs": [],
   "source": [
    "file = \"brock400_2.clq\""
   ]
  },
  {
   "cell_type": "code",
   "execution_count": 69,
   "metadata": {},
   "outputs": [
    {
     "name": "stdout",
     "output_type": "stream",
     "text": [
      "edge 400 59786\n",
      "\n",
      "50 trials:\n",
      "process: 1\n",
      "process: 2\n",
      "process: 3\n",
      "process: 4\n",
      "process: 5\n",
      "process: 6\n",
      "process: 7\n",
      "process: 8\n",
      "process: 9\n",
      "process: 10\n",
      "process: 11\n",
      "process: 12\n",
      "process: 13\n",
      "process: 14\n",
      "process: 15\n",
      "process: 16\n",
      "process: 17\n",
      "process: 18\n",
      "process: 19\n",
      "process: 20\n",
      "process: 21\n",
      "process: 22\n",
      "process: 23\n",
      "process: 24\n",
      "process: 25\n",
      "process: 26\n",
      "process: 27\n",
      "process: 28\n",
      "process: 29\n",
      "process: 30\n",
      "process: 31\n",
      "process: 32\n",
      "process: 33\n",
      "process: 34\n",
      "process: 35\n",
      "process: 36\n",
      "process: 37\n",
      "process: 38\n",
      "process: 39\n",
      "process: 40\n",
      "process: 41\n",
      "process: 42\n",
      "process: 43\n",
      "process: 44\n",
      "process: 45\n",
      "process: 46\n",
      "process: 47\n",
      "process: 48\n",
      "process: 49\n",
      "process: 50\n"
     ]
    }
   ],
   "source": [
    "solutions,times = multi_solve(file, 50)"
   ]
  },
  {
   "cell_type": "code",
   "execution_count": 57,
   "metadata": {},
   "outputs": [
    {
     "name": "stdout",
     "output_type": "stream",
     "text": [
      "100 return true clique\n",
      "max = 15\n",
      "mean = 11.96\n",
      "std = 1.0575443253121828\n",
      "CPU = 0.30296875\n"
     ]
    }
   ],
   "source": [
    "print('{} return true clique'.format(len(solutions)))\n",
    "print('max = {}'.format(np.amax(solutions)))\n",
    "print('mean = {}'.format(np.mean(solutions)))\n",
    "print('std = {}'.format(np.std(solutions)))\n",
    "print('CPU = {}'.format(np.mean(times)))"
   ]
  },
  {
   "cell_type": "code",
   "execution_count": 58,
   "metadata": {},
   "outputs": [],
   "source": [
    "result.append([file,len(solutions),np.amax(solutions),np.mean(solutions),np.std(solutions),np.mean(times)])"
   ]
  },
  {
   "cell_type": "code",
   "execution_count": 59,
   "metadata": {},
   "outputs": [
    {
     "data": {
      "text/plain": [
       "[['c125.9.clq', 100, 33, 28.46, 1.7459667808981933, 0.0840625],\n",
       " ['c250.9.clq', 100, 40, 35.11, 1.7938506069347022, 0.30171875],\n",
       " ['c500.9.clq', 100, 48, 42.64, 2.0075856146127364, 9.675625],\n",
       " ['DSJC500_5.clq', 50, 11, 9.38, 0.7453858061433689, 8.7365625],\n",
       " ['DSJC1000_5.clq', 50, 13, 10.64, 0.8662563131083085, 51.8778125],\n",
       " ['brock200_2.clq', 100, 10, 7.82, 0.7665507158694722, 0.22703125],\n",
       " ['brock200_4.clq', 100, 15, 11.96, 1.0575443253121828, 0.30296875]]"
      ]
     },
     "execution_count": 59,
     "metadata": {},
     "output_type": "execute_result"
    }
   ],
   "source": [
    "result"
   ]
  }
 ],
 "metadata": {
  "kernelspec": {
   "display_name": "Python 3",
   "language": "python",
   "name": "python3"
  },
  "language_info": {
   "codemirror_mode": {
    "name": "ipython",
    "version": 3
   },
   "file_extension": ".py",
   "mimetype": "text/x-python",
   "name": "python",
   "nbconvert_exporter": "python",
   "pygments_lexer": "ipython3",
   "version": "3.7.3"
  }
 },
 "nbformat": 4,
 "nbformat_minor": 2
}
